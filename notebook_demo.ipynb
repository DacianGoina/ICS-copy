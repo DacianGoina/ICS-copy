{
  "nbformat": 4,
  "nbformat_minor": 0,
  "metadata": {
    "colab": {
      "provenance": []
    },
    "kernelspec": {
      "name": "python3",
      "display_name": "Python 3"
    },
    "language_info": {
      "name": "python"
    }
  },
  "cells": [
    {
      "cell_type": "code",
      "source": [
        "# A small demo related to the usage of Ideal Centroid Striving classification method"
      ],
      "metadata": {
        "id": "XXrEaF3MfHKd"
      },
      "execution_count": null,
      "outputs": []
    },
    {
      "cell_type": "code",
      "source": [
        "pip install stumpy"
      ],
      "metadata": {
        "id": "UX4sqgtie2ZY",
        "colab": {
          "base_uri": "https://localhost:8080/"
        },
        "outputId": "47833d90-20ae-442d-d00f-4fd177ef1ab6"
      },
      "execution_count": 1,
      "outputs": [
        {
          "output_type": "stream",
          "name": "stdout",
          "text": [
            "Collecting stumpy\n",
            "  Downloading stumpy-1.12.0-py3-none-any.whl (169 kB)\n",
            "\u001b[2K     \u001b[90m━━━━━━━━━━━━━━━━━━━━━━━━━━━━━━━━━━━━━━━━\u001b[0m \u001b[32m169.1/169.1 kB\u001b[0m \u001b[31m2.4 MB/s\u001b[0m eta \u001b[36m0:00:00\u001b[0m\n",
            "\u001b[?25hRequirement already satisfied: numpy>=1.18 in /usr/local/lib/python3.10/dist-packages (from stumpy) (1.25.2)\n",
            "Requirement already satisfied: scipy>=1.5 in /usr/local/lib/python3.10/dist-packages (from stumpy) (1.11.4)\n",
            "Requirement already satisfied: numba>=0.55.2 in /usr/local/lib/python3.10/dist-packages (from stumpy) (0.58.1)\n",
            "Requirement already satisfied: llvmlite<0.42,>=0.41.0dev0 in /usr/local/lib/python3.10/dist-packages (from numba>=0.55.2->stumpy) (0.41.1)\n",
            "Installing collected packages: stumpy\n",
            "Successfully installed stumpy-1.12.0\n"
          ]
        }
      ]
    },
    {
      "cell_type": "code",
      "source": [
        "# Connect to google Drive\n",
        "from google.colab import drive\n",
        "drive.mount('/content/drive')"
      ],
      "metadata": {
        "colab": {
          "base_uri": "https://localhost:8080/"
        },
        "id": "iGdTsuzvcaec",
        "outputId": "94842382-d747-4ca7-be28-48e8c4bcdc62"
      },
      "execution_count": 2,
      "outputs": [
        {
          "output_type": "stream",
          "name": "stdout",
          "text": [
            "Mounted at /content/drive\n"
          ]
        }
      ]
    },
    {
      "cell_type": "code",
      "source": [
        "%ls"
      ],
      "metadata": {
        "id": "cGrsF3AllNRl",
        "colab": {
          "base_uri": "https://localhost:8080/"
        },
        "outputId": "451c4cde-d8ca-475c-a10b-c3eacb935436"
      },
      "execution_count": 3,
      "outputs": [
        {
          "output_type": "stream",
          "name": "stdout",
          "text": [
            "\u001b[0m\u001b[01;34mdrive\u001b[0m/  \u001b[01;34msample_data\u001b[0m/\n"
          ]
        }
      ]
    },
    {
      "cell_type": "code",
      "execution_count": 4,
      "metadata": {
        "colab": {
          "base_uri": "https://localhost:8080/"
        },
        "id": "a5lMeBOkcS6o",
        "outputId": "8bfb2d0a-17d1-480f-8a30-ceeb3d524cb4"
      },
      "outputs": [
        {
          "output_type": "stream",
          "name": "stdout",
          "text": [
            "Cloning into 'dissertation-code'...\n",
            "remote: Enumerating objects: 274, done.\u001b[K\n",
            "remote: Counting objects: 100% (274/274), done.\u001b[K\n",
            "remote: Compressing objects: 100% (176/176), done.\u001b[K\n",
            "remote: Total 274 (delta 155), reused 203 (delta 87), pack-reused 0\u001b[K\n",
            "Receiving objects: 100% (274/274), 3.78 MiB | 4.82 MiB/s, done.\n",
            "Resolving deltas: 100% (155/155), done.\n"
          ]
        }
      ],
      "source": [
        "# Clone the GitHub repository\n",
        "removed"
      ]
    },
    {
      "cell_type": "code",
      "source": [
        "# %cd dissertation-code/\n",
        "%cd lucrare/"
      ],
      "metadata": {
        "id": "ctPgyKNLi5Me"
      },
      "execution_count": null,
      "outputs": []
    },
    {
      "cell_type": "code",
      "source": [
        "import itertools\n",
        "import copy\n",
        "import json"
      ],
      "metadata": {
        "id": "P2fRr_EYZUn3"
      },
      "execution_count": 6,
      "outputs": []
    },
    {
      "cell_type": "code",
      "source": [
        "from src.main.io_utils import import_csv_as_df, import_pkl_obj\n",
        "from src.main.cycle_utils import *\n",
        "from src.main.plot_utils import *\n",
        "from src.main.sampling_utils import *\n",
        "from src.main.matching_utils import *\n",
        "from src.model.IdealCentroidStriving import *\n",
        "from src.model.model_utils import *"
      ],
      "metadata": {
        "id": "1WO6_PR6jIPv"
      },
      "execution_count": 7,
      "outputs": []
    },
    {
      "cell_type": "code",
      "source": [
        "# Several datasets used in the experiments; they are organized as csv files\n",
        "# For this example, the instances (dataset's rows) are extracted from a time series, but usually, a tabular dataset is given directly to ICS\n",
        "# string key -> tuple with 3 values: path to csv with ts data, path to pkl with cycles starting indexes, cycle len\n",
        "scamp_data_paths = dict()\n",
        "scamp_data_paths['B827EB019C33'] = (\"/content/drive/MyDrive/dissertation-data-usage-backup/B827EB019C33_sid_1.csv\",\n",
        "                                    \"/content/drive/MyDrive/dissertation-data-usage-backup/B827EB019C33_sid_1_cycles_binary.pkl\",\n",
        "                                    24)\n",
        "\n",
        "scamp_data_paths['B827EB722606'] = ( \"/content/drive/MyDrive/dissertation-data-usage-backup/B827EB722606_sid_1.csv\",\n",
        "                             \"/content/drive/MyDrive/dissertation-data-usage-backup/B827EB722606_sid_1_cycles_binary.pkl\",\n",
        "                              17)\n"
      ],
      "metadata": {
        "id": "EA6O9moNTYpD"
      },
      "execution_count": 91,
      "outputs": []
    },
    {
      "cell_type": "code",
      "source": [
        "# read csv and pkl data from files\n",
        "\n",
        "def import_data_and_cycles_idx(csv_path, pkl_path):\n",
        "  # import csv file with time series data\n",
        "  df1 = import_csv_as_df(csv_path)\n",
        "  data1 = scale_df_data(df1)\n",
        "\n",
        "  # import pkl object with cycles indexes\n",
        "  matches = import_pkl_obj(pkl_path)\n",
        "\n",
        "  return data1, matches\n",
        "\n",
        "# extract cycles form time series using indexes extracted via stumpy\n",
        "def extract_cycles(data_from_csv, cycle_idx_matches, pattern_len_val):\n",
        "  cycles_indexes = [pair[1] for pair in cycle_idx_matches]\n",
        "  cycles_indexes = extract_non_overlayed_cycles_indexes(cycles_indexes, pattern_len=pattern_len_val)\n",
        "  cycles = extract_cycles_from_ts(cycles_indexes, pattern_len_val, data_from_csv)\n",
        "\n",
        "  return cycles\n",
        "\n",
        "def import_cycles_from_pkl(file_path):\n",
        "  cycles = import_pkl_obj(file_path)\n",
        "  return cycles\n"
      ],
      "metadata": {
        "id": "_NdLaZZvhNF4"
      },
      "execution_count": 92,
      "outputs": []
    },
    {
      "cell_type": "code",
      "source": [
        "scamp_data_hosts = ['B827EB019C33', 'B827EB722606']\n",
        "scamp_data_selected_host = scamp_data_hosts[0] # change here to select other dataset\n",
        "csv_path, pkl_path, pattern_len = scamp_data_paths[scamp_data_selected_host]\n",
        "\n",
        "ts_data, matches = import_data_and_cycles_idx(csv_path, pkl_path)\n",
        "cycles = extract_cycles(ts_data, matches, pattern_len)"
      ],
      "metadata": {
        "id": "th_huPZRVrU2"
      },
      "execution_count": 93,
      "outputs": []
    },
    {
      "cell_type": "code",
      "source": [
        "# 'cycles' variable represent the dataset: it contains 161631 instances and 24 features\n",
        "print(len(cycles))\n",
        "print(len(cycles[0]))\n",
        "print(cycles[0])"
      ],
      "metadata": {
        "colab": {
          "base_uri": "https://localhost:8080/"
        },
        "id": "Qao1suebWQ8K",
        "outputId": "3ae09139-dee4-4648-d8e2-8062ca20712d"
      },
      "execution_count": 94,
      "outputs": [
        {
          "output_type": "stream",
          "name": "stdout",
          "text": [
            "161631\n",
            "24\n",
            "[0.49358168 0.49735716 0.51875157 0.54316637 0.69166876 0.68814498\n",
            " 0.66901586 0.66725396 0.64208407 0.68084571 0.68638309 0.68084571\n",
            " 0.6821042  0.69468915 0.68512459 0.59048578 0.56858797 0.70425371\n",
            " 0.64611125 0.5612887  0.55247923 0.62068966 0.58092122 0.55122074]\n"
          ]
        }
      ]
    },
    {
      "cell_type": "code",
      "source": [
        "# Use ICS directly, without to access all the stages (steps) behind\n",
        "\n",
        "ics_clf = IdealCentroidStriving(anomalous_points_threshold_no = 12)\n",
        "ics_clf.fit(cycles) # fit the data (cycles, i.e. instances) in the classifier\n",
        "ics_clf.transform() # peform the training\n"
      ],
      "metadata": {
        "id": "r6O97U_RljQk"
      },
      "execution_count": 14,
      "outputs": []
    },
    {
      "cell_type": "code",
      "source": [
        "# Print some components from the model's creation report\n",
        "#ics_clf.report.keys()\n",
        "\n",
        "for report_key in ['min_anomalous_points_per_cycle', 'anomalous_cycles_no', 'anomalous_cycles_percentage', 'anomalous_pos_abs_freq']:\n",
        "  print(report_key, \" : \", ics_clf.report[report_key])"
      ],
      "metadata": {
        "colab": {
          "base_uri": "https://localhost:8080/"
        },
        "id": "wPbn0MV9KVA6",
        "outputId": "ebfb4ffe-7f3b-4baf-98e4-4fcf4150ca28"
      },
      "execution_count": 15,
      "outputs": [
        {
          "output_type": "stream",
          "name": "stdout",
          "text": [
            "min_anomalous_points_per_cycle  :  12\n",
            "anomalous_cycles_no  :  5587\n",
            "anomalous_cycles_percentage  :  0.03456638887342156\n",
            "anomalous_pos_abs_freq  :  [5055. 5143. 4927. 4594. 4859. 5161. 5334. 5347. 5378. 5369. 5363. 5367.\n",
            " 5327. 5318. 5078. 4450. 4431. 4912. 4769. 4931. 4951. 4888. 5157. 4581.]\n"
          ]
        }
      ]
    },
    {
      "cell_type": "code",
      "source": [
        "# Now, the ICS model creation step by step"
      ],
      "metadata": {
        "id": "6D516CPMLerp"
      },
      "execution_count": 16,
      "outputs": []
    },
    {
      "cell_type": "code",
      "source": [
        "# Split data into two samples for training and testing\n",
        "instances = cycles[:]\n",
        "x_train, x_test = split_into_2_samples(instances, size = 0.9)"
      ],
      "metadata": {
        "id": "n-dWaPaBLuHx"
      },
      "execution_count": 48,
      "outputs": []
    },
    {
      "cell_type": "code",
      "source": [
        "# Initalize ICS classifier with specific parameters\n",
        "ics_clf = IdealCentroidStriving(bins_no =\"auto\", anomalous_cumulated_threshold = 0.03, anomalous_points_threshold_no = 12,\n",
        "                 min_sw_size = 4, max_sw_size = 14, estimators_no = 10, windows_selection_strategy =\"best\", sp_computation_method =\"sub\",\n",
        "                 min_sss_p = 0.3, max_sss_p = 0.55, ss_ap = 0.02, ics_ccm = \"avg\")\n",
        "ics_clf.fit(x_train)"
      ],
      "metadata": {
        "id": "JIpV2o8wmpm4"
      },
      "execution_count": 49,
      "outputs": []
    },
    {
      "cell_type": "code",
      "source": [
        "# Unit level anomaly: create anomalous bins\n",
        "anomalous_labelers = ics_clf.create_anomalous_labelers(0.03, ics_clf.bins_number)"
      ],
      "metadata": {
        "id": "YM-1VUuFqrfi"
      },
      "execution_count": 50,
      "outputs": []
    },
    {
      "cell_type": "code",
      "source": [
        "# Instance level anomaly\n",
        "# - assign artificial labels to dataset instances\n",
        "labeled_instances = ics_clf.assign_artificial_labels(anomalous_labelers, anomalous_points_no = 12)"
      ],
      "metadata": {
        "id": "82kGdAs6rOKl"
      },
      "execution_count": 51,
      "outputs": []
    },
    {
      "cell_type": "code",
      "source": [
        "# Compute absolute and relative frequencies for features indexes of anomalous values\n",
        "anomalous_pos_abs_freq, anomalous_pos_relative_freq = ics_clf.compute_anomalous_points_freq_by_pos(labeled_instances)"
      ],
      "metadata": {
        "id": "ezC4NG-Crdej"
      },
      "execution_count": 52,
      "outputs": []
    },
    {
      "cell_type": "code",
      "source": [
        "# Plot the absolute frequencies values\n",
        "import matplotlib.pyplot as plt\n",
        "\n",
        "cycle_len = 24\n",
        "plt.figure(figsize=(10,4))\n",
        "plt.bar(range(cycle_len), anomalous_pos_abs_freq)\n",
        "\n",
        "plt.xticks(range(cycle_len), range(cycle_len))\n",
        "plt.xlabel('Featur index')\n",
        "plt.ylabel('Frequency')\n",
        "plt.title('Absolute frequencies for feature indexes of anomalous points')"
      ],
      "metadata": {
        "colab": {
          "base_uri": "https://localhost:8080/",
          "height": 447
        },
        "id": "ZQ6TYyYsrpmw",
        "outputId": "120e15f8-86f8-4600-d79b-70becdf0958c"
      },
      "execution_count": 53,
      "outputs": [
        {
          "output_type": "execute_result",
          "data": {
            "text/plain": [
              "Text(0.5, 1.0, 'Absolute frequencies for feature indexes of anomalous points')"
            ]
          },
          "metadata": {},
          "execution_count": 53
        },
        {
          "output_type": "display_data",
          "data": {
            "text/plain": [
              "<Figure size 1000x400 with 1 Axes>"
            ],
            "image/png": "[encoded data removed]"
          },
          "metadata": {}
        }
      ]
    },
    {
      "cell_type": "code",
      "source": [
        "# Create the report and print the percentage of artificial anomalous instances\n",
        "ics_clf.update_report_multi_items(labeled_instances, anomalous_pos_abs_freq)\n",
        "\n",
        "print(ics_clf.report['anomalous_cycles_percentage'] )"
      ],
      "metadata": {
        "colab": {
          "base_uri": "https://localhost:8080/"
        },
        "id": "0AvGzTZnscQj",
        "outputId": "043731c4-a967-403f-ce42-90bd557b0a96"
      },
      "execution_count": 54,
      "outputs": [
        {
          "output_type": "stream",
          "name": "stdout",
          "text": [
            "0.02489224360164161\n"
          ]
        }
      ]
    },
    {
      "cell_type": "code",
      "source": [
        "# create window item objects\n",
        "sw_objects = ics_clf.create_window_item_instances(ics_clf.min_sw_size, ics_clf.max_sw_size,\n",
        "                                                      anomalous_pos_abs_freq, anomalous_pos_relative_freq)"
      ],
      "metadata": {
        "id": "6WXQhJ18r8c9"
      },
      "execution_count": 96,
      "outputs": []
    },
    {
      "cell_type": "code",
      "source": [
        "# select windows item objects for model estimators\n",
        "window_item_objects = ics_clf.select_top_window_items(sw_objects, ics_clf.estimators_no, \"best\")"
      ],
      "metadata": {
        "id": "9sJHCNc9sC-E"
      },
      "execution_count": 97,
      "outputs": []
    },
    {
      "cell_type": "code",
      "source": [
        "# create ics estimators\n",
        "ics_estimators  = ics_clf.create_ICS_estimators(window_item_objects)"
      ],
      "metadata": {
        "id": "lVq0sKNosKu5"
      },
      "execution_count": 65,
      "outputs": []
    },
    {
      "cell_type": "code",
      "source": [
        "# train ICS estimators\n",
        "ics_clf.perform_training(labeled_instances, ics_clf.min_sss_p,  ics_clf.max_sss_p, ics_clf.ss_ap)"
      ],
      "metadata": {
        "id": "tyQdf8k3sQ2I"
      },
      "execution_count": 66,
      "outputs": []
    },
    {
      "cell_type": "code",
      "source": [
        "# Perform prediction\n",
        "\n",
        "ics_predicted_labels = ics_clf.predicts(x_test, percentile_rank = 98)\n",
        "ics_label_types = (0, 1)\n",
        "ics_res = (ics_predicted_labels, ics_label_types)"
      ],
      "metadata": {
        "id": "vcPPy19ft0jd"
      },
      "execution_count": 67,
      "outputs": []
    },
    {
      "cell_type": "code",
      "source": [
        "# Train and perform prediction using a Isolation Forest (IF) model\n",
        "if_predicted_labels = execute_isolation_forest(x_train, x_test, contamination_value  = 0.024)\n",
        "if_label_types = (1, -1)\n",
        "if_res = (if_predicted_labels, if_label_types)"
      ],
      "metadata": {
        "id": "51WjMZM0Xjp1"
      },
      "execution_count": 74,
      "outputs": []
    },
    {
      "cell_type": "code",
      "source": [
        "# Compare the predicted labels provided by ICS with the labels provided by IF\n",
        "\n",
        "matching_res = two_way_matching(ics_predicted_labels, if_predicted_labels, ics_label_types, if_label_types)\n",
        "matching_report = two_way_matching_report(count_labels_by_types(ics_predicted_labels, ics_label_types), count_labels_by_types(if_predicted_labels, if_label_types), matching_res)\n",
        "\n",
        "for key_val, data_val in matching_report.items():\n",
        "  print(key_val, \" : \", data_val)"
      ],
      "metadata": {
        "colab": {
          "base_uri": "https://localhost:8080/"
        },
        "id": "SMz0_wLlZAd7",
        "outputId": "96962c80-4c2f-48c1-8cec-2b25dff08f0a"
      },
      "execution_count": 75,
      "outputs": [
        {
          "output_type": "stream",
          "name": "stdout",
          "text": [
            "instances  :  16164\n",
            "m1_normal_instances  :  15784\n",
            "m1_anomalous_instances  :  380\n",
            "m2_normal_instances  :  15783\n",
            "m2_anomalous_instances  :  381\n",
            "normal_instances_matches  :  15779\n",
            "anomalous_instances_matches  :  376\n",
            "wrong_matches  :  9\n"
          ]
        }
      ]
    },
    {
      "cell_type": "code",
      "source": [
        "x_vals = list(range(1, 100))\n",
        "y_vals =  [percentile_value for percentile_rank, percentile_value in ics_clf.ics_estimators[0].percentiles.items()]\n",
        "\n",
        "plt.figure(figsize=(14, 6))\n",
        "plt.xticks(np.arange(0, 101, 5))\n",
        "plt.title('The percentiles of the distances values computed for the training of the first estimator of ICS')\n",
        "plt.xlabel('Percentile rank')\n",
        "plt.ylabel('Percentile value')\n",
        "\n",
        "\n",
        "plt.plot(x_vals, y_vals)"
      ],
      "metadata": {
        "colab": {
          "base_uri": "https://localhost:8080/",
          "height": 601
        },
        "id": "iLSp2cwfc-OO",
        "outputId": "67b44bc8-5b82-4664-8d73-61271c641554"
      },
      "execution_count": 90,
      "outputs": [
        {
          "output_type": "execute_result",
          "data": {
            "text/plain": [
              "[<matplotlib.lines.Line2D at 0x7f9a79426c50>]"
            ]
          },
          "metadata": {},
          "execution_count": 90
        },
        {
          "output_type": "display_data",
          "data": {
            "text/plain": [
              "<Figure size 1400x600 with 1 Axes>"
            ],
            "image/png": "[encoded data removed]"
          },
          "metadata": {}
        }
      ]
    }
  ]
}